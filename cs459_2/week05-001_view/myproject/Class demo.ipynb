{
 "cells": [
  {
   "cell_type": "code",
   "execution_count": 66,
   "metadata": {},
   "outputs": [],
   "source": [
    "class Rectangle(object):\n",
    "    def __init__(self, width=0, height=0):\n",
    "        self.w=width\n",
    "        self.h=height\n",
    "        \n",
    "    def area(self):\n",
    "        return self.w*self.h\n",
    "    \n",
    "    def detail(self, *args, **kwargs):\n",
    "        print(type(args),type(kwargs))\n",
    "        print(args)\n",
    "        print(kwargs)\n",
    "        \n",
    "    def __str__(self):\n",
    "        return \"w:%s h:%s area:%s\"%(self.w,self.h,self.area())\n",
    "    \n",
    "class Square(Rectangle):\n",
    "    def __init__(self, width=0):\n",
    "        self.w=width\n",
    "        self.h=width"
   ]
  },
  {
   "cell_type": "code",
   "execution_count": 67,
   "metadata": {},
   "outputs": [],
   "source": [
    "x= Rectangle(width=3,height=4)"
   ]
  },
  {
   "cell_type": "code",
   "execution_count": 68,
   "metadata": {},
   "outputs": [
    {
     "name": "stdout",
     "output_type": "stream",
     "text": [
      "w:3 h:4 area:12\n"
     ]
    }
   ],
   "source": [
    "print(x)"
   ]
  },
  {
   "cell_type": "code",
   "execution_count": 70,
   "metadata": {},
   "outputs": [
    {
     "name": "stdout",
     "output_type": "stream",
     "text": [
      "w:5 h:5 area:25\n"
     ]
    }
   ],
   "source": [
    "y = Square(width=5)\n",
    "print(y)"
   ]
  },
  {
   "cell_type": "code",
   "execution_count": null,
   "metadata": {},
   "outputs": [],
   "source": []
  }
 ],
 "metadata": {
  "kernelspec": {
   "display_name": "Python 3",
   "language": "python",
   "name": "python3"
  },
  "language_info": {
   "codemirror_mode": {
    "name": "ipython",
    "version": 3
   },
   "file_extension": ".py",
   "mimetype": "text/x-python",
   "name": "python",
   "nbconvert_exporter": "python",
   "pygments_lexer": "ipython3",
   "version": "3.7.3"
  }
 },
 "nbformat": 4,
 "nbformat_minor": 2
}
