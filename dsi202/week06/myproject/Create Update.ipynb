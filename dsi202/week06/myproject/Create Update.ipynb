{
 "cells": [
  {
   "cell_type": "code",
   "execution_count": 1,
   "metadata": {},
   "outputs": [
    {
     "name": "stdout",
     "output_type": "stream",
     "text": [
      "1 D Conda 32.00 sqm.\n",
      "2 J Park 40.00 sqm.\n",
      "3 Asian Game B6 35.00 sqm.\n",
      "4 Asian Game B7 35.00 sqm.\n",
      "5 Asian Game B8 35.00 sqm.\n"
     ]
    }
   ],
   "source": [
    "for i in Property.objects.all():\n",
    "    print(i)"
   ]
  },
  {
   "cell_type": "code",
   "execution_count": 2,
   "metadata": {},
   "outputs": [
    {
     "name": "stdout",
     "output_type": "stream",
     "text": [
      "Alexzadra Long\n"
     ]
    }
   ],
   "source": [
    "for i in Customer.objects.all():\n",
    "    print(i)"
   ]
  },
  {
   "cell_type": "code",
   "execution_count": 3,
   "metadata": {},
   "outputs": [
    {
     "name": "stdout",
     "output_type": "stream",
     "text": [
      "1 D Conda 32.00 sqm. 2020-02-13 07:33:19+00:00\n"
     ]
    }
   ],
   "source": [
    "for i in Rent.objects.all():\n",
    "    print(i)"
   ]
  },
  {
   "cell_type": "markdown",
   "metadata": {},
   "source": [
    "# Create"
   ]
  },
  {
   "cell_type": "code",
   "execution_count": 4,
   "metadata": {},
   "outputs": [
    {
     "data": {
      "text/plain": [
       "<Property: 6 Cozy Cozy 37 sqm.>"
      ]
     },
     "execution_count": 4,
     "metadata": {},
     "output_type": "execute_result"
    }
   ],
   "source": [
    "Property.objects.create(\n",
    "    name=\"Cozy Cozy\",\n",
    "    ac=True,\n",
    "    size=37,\n",
    "    price_per_day=700\n",
    ")"
   ]
  },
  {
   "cell_type": "code",
   "execution_count": 5,
   "metadata": {},
   "outputs": [],
   "source": [
    "p=Property(\n",
    "    name=\"Cozy Cozy\",\n",
    "    ac=True,\n",
    "    size=37,\n",
    "    price_per_day=700\n",
    ")"
   ]
  },
  {
   "cell_type": "code",
   "execution_count": 6,
   "metadata": {},
   "outputs": [
    {
     "name": "stdout",
     "output_type": "stream",
     "text": [
      "1 D Conda 32.00 sqm.\n",
      "2 J Park 40.00 sqm.\n",
      "3 Asian Game B6 35.00 sqm.\n",
      "4 Asian Game B7 35.00 sqm.\n",
      "5 Asian Game B8 35.00 sqm.\n",
      "6 Cozy Cozy 37.00 sqm.\n"
     ]
    }
   ],
   "source": [
    "for i in Property.objects.all():\n",
    "    print(i)"
   ]
  },
  {
   "cell_type": "code",
   "execution_count": 7,
   "metadata": {},
   "outputs": [],
   "source": [
    "p.save()"
   ]
  },
  {
   "cell_type": "code",
   "execution_count": 8,
   "metadata": {},
   "outputs": [
    {
     "name": "stdout",
     "output_type": "stream",
     "text": [
      "1 D Conda 32.00 sqm.\n",
      "2 J Park 40.00 sqm.\n",
      "3 Asian Game B6 35.00 sqm.\n",
      "4 Asian Game B7 35.00 sqm.\n",
      "5 Asian Game B8 35.00 sqm.\n",
      "6 Cozy Cozy 37.00 sqm.\n",
      "7 Cozy Cozy 37.00 sqm.\n"
     ]
    }
   ],
   "source": [
    "for i in Property.objects.all():\n",
    "    print(i)"
   ]
  },
  {
   "cell_type": "markdown",
   "metadata": {},
   "source": [
    "# Update"
   ]
  },
  {
   "cell_type": "code",
   "execution_count": 9,
   "metadata": {},
   "outputs": [],
   "source": [
    "p=Property.objects.get(id=7)"
   ]
  },
  {
   "cell_type": "code",
   "execution_count": 10,
   "metadata": {},
   "outputs": [],
   "source": [
    "p.size=38"
   ]
  },
  {
   "cell_type": "code",
   "execution_count": 11,
   "metadata": {},
   "outputs": [
    {
     "name": "stdout",
     "output_type": "stream",
     "text": [
      "1 D Conda 32.00 sqm.\n",
      "2 J Park 40.00 sqm.\n",
      "3 Asian Game B6 35.00 sqm.\n",
      "4 Asian Game B7 35.00 sqm.\n",
      "5 Asian Game B8 35.00 sqm.\n",
      "6 Cozy Cozy 37.00 sqm.\n",
      "7 Cozy Cozy 37.00 sqm.\n"
     ]
    }
   ],
   "source": [
    "for i in Property.objects.all():\n",
    "    print(i)"
   ]
  },
  {
   "cell_type": "code",
   "execution_count": 12,
   "metadata": {},
   "outputs": [],
   "source": [
    "p.save()"
   ]
  },
  {
   "cell_type": "code",
   "execution_count": 13,
   "metadata": {},
   "outputs": [
    {
     "name": "stdout",
     "output_type": "stream",
     "text": [
      "1 D Conda 32.00 sqm.\n",
      "2 J Park 40.00 sqm.\n",
      "3 Asian Game B6 35.00 sqm.\n",
      "4 Asian Game B7 35.00 sqm.\n",
      "5 Asian Game B8 35.00 sqm.\n",
      "6 Cozy Cozy 37.00 sqm.\n",
      "7 Cozy Cozy 38.00 sqm.\n"
     ]
    }
   ],
   "source": [
    "for i in Property.objects.all():\n",
    "    print(i)"
   ]
  },
  {
   "cell_type": "code",
   "execution_count": 15,
   "metadata": {},
   "outputs": [
    {
     "data": {
      "text/plain": [
       "1"
      ]
     },
     "execution_count": 15,
     "metadata": {},
     "output_type": "execute_result"
    }
   ],
   "source": [
    "Property.objects.filter(id=7).update(size=39)"
   ]
  },
  {
   "cell_type": "code",
   "execution_count": 16,
   "metadata": {},
   "outputs": [
    {
     "name": "stdout",
     "output_type": "stream",
     "text": [
      "1 D Conda 32.00 sqm.\n",
      "2 J Park 40.00 sqm.\n",
      "3 Asian Game B6 35.00 sqm.\n",
      "4 Asian Game B7 35.00 sqm.\n",
      "5 Asian Game B8 35.00 sqm.\n",
      "6 Cozy Cozy 37.00 sqm.\n",
      "7 Cozy Cozy 39.00 sqm.\n"
     ]
    }
   ],
   "source": [
    "for i in Property.objects.all():\n",
    "    print(i)"
   ]
  },
  {
   "cell_type": "code",
   "execution_count": 1,
   "metadata": {},
   "outputs": [
    {
     "name": "stdout",
     "output_type": "stream",
     "text": [
      "SELECT \"myapp_property\".\"id\", \"myapp_property\".\"name\", \"myapp_property\".\"ac\", \"myapp_property\".\"size\", \"myapp_property\".\"price_per_day\" FROM \"myapp_property\" WHERE \"myapp_property\".\"id\" = 7\n"
     ]
    }
   ],
   "source": [
    "q=Property.objects.filter(id=7)\n",
    "print(q.query)"
   ]
  },
  {
   "cell_type": "markdown",
   "metadata": {},
   "source": [
    "# Datetime"
   ]
  },
  {
   "cell_type": "code",
   "execution_count": 2,
   "metadata": {},
   "outputs": [],
   "source": [
    "from datetime import datetime as dt"
   ]
  },
  {
   "cell_type": "code",
   "execution_count": 3,
   "metadata": {},
   "outputs": [
    {
     "data": {
      "text/plain": [
       "datetime.datetime(2020, 2, 20, 9, 12, 16, 717571)"
      ]
     },
     "execution_count": 3,
     "metadata": {},
     "output_type": "execute_result"
    }
   ],
   "source": [
    "dt.now()"
   ]
  },
  {
   "cell_type": "code",
   "execution_count": 4,
   "metadata": {},
   "outputs": [
    {
     "name": "stdout",
     "output_type": "stream",
     "text": [
      "2020-02-20 09:12:29.487741\n"
     ]
    }
   ],
   "source": [
    "print(dt.now())"
   ]
  },
  {
   "cell_type": "code",
   "execution_count": 7,
   "metadata": {},
   "outputs": [
    {
     "data": {
      "text/plain": [
       "'02/20/2020, 09:14:25'"
      ]
     },
     "execution_count": 7,
     "metadata": {},
     "output_type": "execute_result"
    }
   ],
   "source": [
    "d=dt.now()\n",
    "d.strftime(\"%m/%d/%Y, %H:%M:%S\")"
   ]
  },
  {
   "cell_type": "code",
   "execution_count": 8,
   "metadata": {},
   "outputs": [
    {
     "data": {
      "text/plain": [
       "'20/02/2020'"
      ]
     },
     "execution_count": 8,
     "metadata": {},
     "output_type": "execute_result"
    }
   ],
   "source": [
    "d.strftime(\"%d/%m/%Y\")"
   ]
  },
  {
   "cell_type": "code",
   "execution_count": 10,
   "metadata": {},
   "outputs": [
    {
     "name": "stdout",
     "output_type": "stream",
     "text": [
      "2020-02-21 00:00:00\n"
     ]
    }
   ],
   "source": [
    "x=dt.strptime('21/02/2020',\"%d/%m/%Y\")\n",
    "print(x)"
   ]
  },
  {
   "cell_type": "markdown",
   "metadata": {},
   "source": [
    "# Bulk Create"
   ]
  },
  {
   "cell_type": "code",
   "execution_count": 11,
   "metadata": {},
   "outputs": [],
   "source": [
    "members=[\n",
    "    {'name':'Wasit', 'mobile':'0987654321','dob':dt.strptime('21/02/1990',\"%d/%m/%Y\"),'gender':True},\n",
    "    {'name':'David', 'mobile':'0987654322','dob':dt.strptime('22/02/1990',\"%d/%m/%Y\"),'gender':True},\n",
    "    {'name':'Albert', 'mobile':'0987654323','dob':dt.strptime('21/03/1990',\"%d/%m/%Y\"),'gender':True},\n",
    "]"
   ]
  },
  {
   "cell_type": "code",
   "execution_count": 12,
   "metadata": {},
   "outputs": [
    {
     "name": "stdout",
     "output_type": "stream",
     "text": [
      "Alexzadra Long\n"
     ]
    }
   ],
   "source": [
    "for i in Customer.objects.all():\n",
    "    print(i)"
   ]
  },
  {
   "cell_type": "code",
   "execution_count": 13,
   "metadata": {},
   "outputs": [],
   "source": [
    "m=[]\n",
    "for i in members:\n",
    "    c=Customer(name=i['name'], mobile=i['mobile'],dob=i['dob'],gender=i['gender'])\n",
    "    m.append(c)"
   ]
  },
  {
   "cell_type": "code",
   "execution_count": 14,
   "metadata": {},
   "outputs": [
    {
     "data": {
      "text/plain": [
       "[<Customer: Wasit>, <Customer: David>, <Customer: Albert>]"
      ]
     },
     "execution_count": 14,
     "metadata": {},
     "output_type": "execute_result"
    }
   ],
   "source": [
    "m"
   ]
  },
  {
   "cell_type": "code",
   "execution_count": 16,
   "metadata": {},
   "outputs": [
    {
     "data": {
      "text/plain": [
       "[<Customer: Wasit>, <Customer: David>, <Customer: Albert>]"
      ]
     },
     "execution_count": 16,
     "metadata": {},
     "output_type": "execute_result"
    }
   ],
   "source": [
    "Customer.objects.bulk_create(m)"
   ]
  },
  {
   "cell_type": "code",
   "execution_count": 17,
   "metadata": {},
   "outputs": [
    {
     "name": "stdout",
     "output_type": "stream",
     "text": [
      "Alexzadra Long\n",
      "Wasit\n",
      "David\n",
      "Albert\n"
     ]
    }
   ],
   "source": [
    "for i in Customer.objects.all():\n",
    "    print(i)"
   ]
  },
  {
   "cell_type": "markdown",
   "metadata": {},
   "source": [
    "# Create Rent"
   ]
  },
  {
   "cell_type": "code",
   "execution_count": 21,
   "metadata": {},
   "outputs": [],
   "source": [
    "c=Customer.objects.get(name='Alexzadra Long')"
   ]
  },
  {
   "cell_type": "code",
   "execution_count": 19,
   "metadata": {},
   "outputs": [
    {
     "data": {
      "text/plain": [
       "<Customer: Alexzadra Long>"
      ]
     },
     "execution_count": 19,
     "metadata": {},
     "output_type": "execute_result"
    }
   ],
   "source": [
    "c"
   ]
  },
  {
   "cell_type": "code",
   "execution_count": 23,
   "metadata": {},
   "outputs": [],
   "source": [
    "p=Property.objects.get(id=7)"
   ]
  },
  {
   "cell_type": "code",
   "execution_count": 24,
   "metadata": {},
   "outputs": [
    {
     "data": {
      "text/plain": [
       "<Property: 7 Cozy Cozy 39.00 sqm.>"
      ]
     },
     "execution_count": 24,
     "metadata": {},
     "output_type": "execute_result"
    }
   ],
   "source": [
    "p"
   ]
  },
  {
   "cell_type": "code",
   "execution_count": 28,
   "metadata": {},
   "outputs": [],
   "source": [
    "r=Rent(\n",
    "    start=dt.strptime('2020-02-20 16:30','%Y-%m-%d %H:%M'),\n",
    "    stop=dt.now(),\n",
    "    cost=5000,\n",
    "    property=p,\n",
    "    customer=c\n",
    ")"
   ]
  },
  {
   "cell_type": "code",
   "execution_count": 31,
   "metadata": {},
   "outputs": [
    {
     "name": "stderr",
     "output_type": "stream",
     "text": [
      "/home/wasit/miniconda3/envs/2020/lib/python3.8/site-packages/django/db/models/fields/__init__.py:1424: RuntimeWarning: DateTimeField Rent.start received a naive datetime (2020-02-20 16:30:00) while time zone support is active.\n",
      "  warnings.warn(\"DateTimeField %s received a naive datetime (%s)\"\n",
      "/home/wasit/miniconda3/envs/2020/lib/python3.8/site-packages/django/db/models/fields/__init__.py:1424: RuntimeWarning: DateTimeField Rent.stop received a naive datetime (2020-02-20 09:31:05.004676) while time zone support is active.\n",
      "  warnings.warn(\"DateTimeField %s received a naive datetime (%s)\"\n"
     ]
    }
   ],
   "source": [
    "r.save()"
   ]
  },
  {
   "cell_type": "code",
   "execution_count": 32,
   "metadata": {},
   "outputs": [
    {
     "name": "stdout",
     "output_type": "stream",
     "text": [
      "1 D Conda 32.00 sqm. 2020-02-13 07:33:19+00:00\n",
      "7 Cozy Cozy 39.00 sqm. 2020-02-20 16:30:00+00:00\n"
     ]
    }
   ],
   "source": [
    "for i in Rent.objects.all():\n",
    "    print(i)"
   ]
  },
  {
   "cell_type": "code",
   "execution_count": 35,
   "metadata": {},
   "outputs": [
    {
     "name": "stderr",
     "output_type": "stream",
     "text": [
      "/home/wasit/miniconda3/envs/2020/lib/python3.8/site-packages/django/db/models/fields/__init__.py:1424: RuntimeWarning: DateTimeField Rent.start received a naive datetime (2020-02-10 16:30:00) while time zone support is active.\n",
      "  warnings.warn(\"DateTimeField %s received a naive datetime (%s)\"\n",
      "/home/wasit/miniconda3/envs/2020/lib/python3.8/site-packages/django/db/models/fields/__init__.py:1424: RuntimeWarning: DateTimeField Rent.stop received a naive datetime (2020-02-20 09:33:06.645273) while time zone support is active.\n",
      "  warnings.warn(\"DateTimeField %s received a naive datetime (%s)\"\n"
     ]
    }
   ],
   "source": [
    "r=Rent(\n",
    "    start=dt.strptime('2020-02-10 16:30','%Y-%m-%d %H:%M'),\n",
    "    stop=dt.now(),\n",
    "    cost=5500,\n",
    "    property=Property.objects.get(id=6),\n",
    "    customer=Customer.objects.get(name='Wasit')\n",
    ").save()"
   ]
  },
  {
   "cell_type": "code",
   "execution_count": 36,
   "metadata": {},
   "outputs": [
    {
     "name": "stdout",
     "output_type": "stream",
     "text": [
      "1 D Conda 32.00 sqm. 2020-02-13 07:33:19+00:00\n",
      "7 Cozy Cozy 39.00 sqm. 2020-02-20 16:30:00+00:00\n",
      "6 Cozy Cozy 37.00 sqm. 2020-02-10 16:30:00+00:00\n"
     ]
    }
   ],
   "source": [
    "for i in Rent.objects.all():\n",
    "    print(i)"
   ]
  },
  {
   "cell_type": "code",
   "execution_count": null,
   "metadata": {},
   "outputs": [],
   "source": []
  }
 ],
 "metadata": {
  "kernelspec": {
   "display_name": "Django Shell-Plus",
   "language": "python",
   "name": "django_extensions"
  },
  "language_info": {
   "codemirror_mode": {
    "name": "ipython",
    "version": 3
   },
   "file_extension": ".py",
   "mimetype": "text/x-python",
   "name": "python",
   "nbconvert_exporter": "python",
   "pygments_lexer": "ipython3",
   "version": "3.8.1"
  }
 },
 "nbformat": 4,
 "nbformat_minor": 4
}
