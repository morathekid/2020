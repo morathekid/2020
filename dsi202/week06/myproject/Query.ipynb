{
 "cells": [
  {
   "cell_type": "code",
   "execution_count": 1,
   "metadata": {},
   "outputs": [
    {
     "name": "stdout",
     "output_type": "stream",
     "text": [
      "1 D Conda 32.00 sqm.\n",
      "2 J Park 40.00 sqm.\n",
      "3 Asian Game B6 35.00 sqm.\n",
      "4 Asian Game B7 35.00 sqm.\n",
      "5 Asian Game B8 35.00 sqm.\n"
     ]
    }
   ],
   "source": [
    "for i in Property.objects.all():\n",
    "    print(i)"
   ]
  },
  {
   "cell_type": "code",
   "execution_count": 2,
   "metadata": {},
   "outputs": [
    {
     "name": "stdout",
     "output_type": "stream",
     "text": [
      "Alexzadra Long\n"
     ]
    }
   ],
   "source": [
    "for i in Customer.objects.all():\n",
    "    print(i)"
   ]
  },
  {
   "cell_type": "code",
   "execution_count": 3,
   "metadata": {},
   "outputs": [
    {
     "name": "stdout",
     "output_type": "stream",
     "text": [
      "1 D Conda 32.00 sqm. 2020-02-13 07:33:19+00:00\n"
     ]
    }
   ],
   "source": [
    "for i in Rent.objects.all():\n",
    "    print(i)"
   ]
  },
  {
   "cell_type": "markdown",
   "metadata": {},
   "source": [
    "# Create"
   ]
  },
  {
   "cell_type": "code",
   "execution_count": 4,
   "metadata": {},
   "outputs": [
    {
     "data": {
      "text/plain": [
       "<Property: 6 Cozy Cozy 37 sqm.>"
      ]
     },
     "execution_count": 4,
     "metadata": {},
     "output_type": "execute_result"
    }
   ],
   "source": [
    "Property.objects.create(\n",
    "    name=\"Cozy Cozy\",\n",
    "    ac=True,\n",
    "    size=37,\n",
    "    price_per_day=700\n",
    ")"
   ]
  },
  {
   "cell_type": "code",
   "execution_count": 5,
   "metadata": {},
   "outputs": [],
   "source": [
    "p=Property(\n",
    "    name=\"Cozy Cozy\",\n",
    "    ac=True,\n",
    "    size=37,\n",
    "    price_per_day=700\n",
    ")"
   ]
  },
  {
   "cell_type": "code",
   "execution_count": 6,
   "metadata": {},
   "outputs": [
    {
     "name": "stdout",
     "output_type": "stream",
     "text": [
      "1 D Conda 32.00 sqm.\n",
      "2 J Park 40.00 sqm.\n",
      "3 Asian Game B6 35.00 sqm.\n",
      "4 Asian Game B7 35.00 sqm.\n",
      "5 Asian Game B8 35.00 sqm.\n",
      "6 Cozy Cozy 37.00 sqm.\n"
     ]
    }
   ],
   "source": [
    "for i in Property.objects.all():\n",
    "    print(i)"
   ]
  },
  {
   "cell_type": "code",
   "execution_count": 7,
   "metadata": {},
   "outputs": [],
   "source": [
    "p.save()"
   ]
  },
  {
   "cell_type": "code",
   "execution_count": 8,
   "metadata": {},
   "outputs": [
    {
     "name": "stdout",
     "output_type": "stream",
     "text": [
      "1 D Conda 32.00 sqm.\n",
      "2 J Park 40.00 sqm.\n",
      "3 Asian Game B6 35.00 sqm.\n",
      "4 Asian Game B7 35.00 sqm.\n",
      "5 Asian Game B8 35.00 sqm.\n",
      "6 Cozy Cozy 37.00 sqm.\n",
      "7 Cozy Cozy 37.00 sqm.\n"
     ]
    }
   ],
   "source": [
    "for i in Property.objects.all():\n",
    "    print(i)"
   ]
  },
  {
   "cell_type": "markdown",
   "metadata": {},
   "source": [
    "# Update"
   ]
  },
  {
   "cell_type": "code",
   "execution_count": 9,
   "metadata": {},
   "outputs": [],
   "source": [
    "p=Property.objects.get(id=7)"
   ]
  },
  {
   "cell_type": "code",
   "execution_count": 10,
   "metadata": {},
   "outputs": [],
   "source": [
    "p.size=38"
   ]
  },
  {
   "cell_type": "code",
   "execution_count": 11,
   "metadata": {},
   "outputs": [
    {
     "name": "stdout",
     "output_type": "stream",
     "text": [
      "1 D Conda 32.00 sqm.\n",
      "2 J Park 40.00 sqm.\n",
      "3 Asian Game B6 35.00 sqm.\n",
      "4 Asian Game B7 35.00 sqm.\n",
      "5 Asian Game B8 35.00 sqm.\n",
      "6 Cozy Cozy 37.00 sqm.\n",
      "7 Cozy Cozy 37.00 sqm.\n"
     ]
    }
   ],
   "source": [
    "for i in Property.objects.all():\n",
    "    print(i)"
   ]
  },
  {
   "cell_type": "code",
   "execution_count": 12,
   "metadata": {},
   "outputs": [],
   "source": [
    "p.save()"
   ]
  },
  {
   "cell_type": "code",
   "execution_count": 13,
   "metadata": {},
   "outputs": [
    {
     "name": "stdout",
     "output_type": "stream",
     "text": [
      "1 D Conda 32.00 sqm.\n",
      "2 J Park 40.00 sqm.\n",
      "3 Asian Game B6 35.00 sqm.\n",
      "4 Asian Game B7 35.00 sqm.\n",
      "5 Asian Game B8 35.00 sqm.\n",
      "6 Cozy Cozy 37.00 sqm.\n",
      "7 Cozy Cozy 38.00 sqm.\n"
     ]
    }
   ],
   "source": [
    "for i in Property.objects.all():\n",
    "    print(i)"
   ]
  },
  {
   "cell_type": "code",
   "execution_count": 15,
   "metadata": {},
   "outputs": [
    {
     "data": {
      "text/plain": [
       "1"
      ]
     },
     "execution_count": 15,
     "metadata": {},
     "output_type": "execute_result"
    }
   ],
   "source": [
    "Property.objects.filter(id=7).update(size=39)"
   ]
  },
  {
   "cell_type": "code",
   "execution_count": 16,
   "metadata": {},
   "outputs": [
    {
     "name": "stdout",
     "output_type": "stream",
     "text": [
      "1 D Conda 32.00 sqm.\n",
      "2 J Park 40.00 sqm.\n",
      "3 Asian Game B6 35.00 sqm.\n",
      "4 Asian Game B7 35.00 sqm.\n",
      "5 Asian Game B8 35.00 sqm.\n",
      "6 Cozy Cozy 37.00 sqm.\n",
      "7 Cozy Cozy 39.00 sqm.\n"
     ]
    }
   ],
   "source": [
    "for i in Property.objects.all():\n",
    "    print(i)"
   ]
  },
  {
   "cell_type": "code",
   "execution_count": null,
   "metadata": {},
   "outputs": [],
   "source": []
  }
 ],
 "metadata": {
  "kernelspec": {
   "display_name": "Django Shell-Plus",
   "language": "python",
   "name": "django_extensions"
  },
  "language_info": {
   "codemirror_mode": {
    "name": "ipython",
    "version": 3
   },
   "file_extension": ".py",
   "mimetype": "text/x-python",
   "name": "python",
   "nbconvert_exporter": "python",
   "pygments_lexer": "ipython3",
   "version": "3.8.1"
  }
 },
 "nbformat": 4,
 "nbformat_minor": 4
}
