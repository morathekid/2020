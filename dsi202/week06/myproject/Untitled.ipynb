{
 "cells": [
  {
   "cell_type": "code",
   "execution_count": 7,
   "metadata": {},
   "outputs": [
    {
     "data": {
      "text/plain": [
       "{'cost__sum': Decimal('5100')}"
      ]
     },
     "execution_count": 7,
     "metadata": {},
     "output_type": "execute_result"
    }
   ],
   "source": [
    "Rent.objects.filter(customer=1).aggregate(Sum('cost'))"
   ]
  },
  {
   "cell_type": "code",
   "execution_count": 14,
   "metadata": {},
   "outputs": [
    {
     "data": {
      "text/plain": [
       "<QuerySet [{'property': 1, 'cost__sum': Decimal('100')}, {'property': 6, 'cost__sum': Decimal('5500')}, {'property': 7, 'cost__sum': Decimal('5000')}]>"
      ]
     },
     "execution_count": 14,
     "metadata": {},
     "output_type": "execute_result"
    }
   ],
   "source": [
    "Rent.objects.values('property').annotate(Sum('cost'))"
   ]
  },
  {
   "cell_type": "code",
   "execution_count": 15,
   "metadata": {},
   "outputs": [
    {
     "name": "stdout",
     "output_type": "stream",
     "text": [
      "SELECT \"myapp_rent\".\"property_id\", CAST(SUM(\"myapp_rent\".\"cost\") AS NUMERIC) AS \"cost__sum\" FROM \"myapp_rent\" GROUP BY \"myapp_rent\".\"property_id\"\n"
     ]
    }
   ],
   "source": [
    "print(Rent.objects.values('property').annotate(Sum('cost')).query)"
   ]
  },
  {
   "cell_type": "code",
   "execution_count": null,
   "metadata": {},
   "outputs": [],
   "source": []
  }
 ],
 "metadata": {
  "kernelspec": {
   "display_name": "Django Shell-Plus",
   "language": "python",
   "name": "django_extensions"
  },
  "language_info": {
   "codemirror_mode": {
    "name": "ipython",
    "version": 3
   },
   "file_extension": ".py",
   "mimetype": "text/x-python",
   "name": "python",
   "nbconvert_exporter": "python",
   "pygments_lexer": "ipython3",
   "version": "3.8.1"
  }
 },
 "nbformat": 4,
 "nbformat_minor": 4
}
