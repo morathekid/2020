{
 "cells": [
  {
   "cell_type": "code",
   "execution_count": 19,
   "metadata": {},
   "outputs": [
    {
     "name": "stdout",
     "output_type": "stream",
     "text": [
      "1 D Conda 450.00\n",
      "2 J Park 700.00\n",
      "3 Asian Game B6 600.00\n",
      "4 Asian Game B7 600.00\n",
      "5 Asian Game B8 550.00\n"
     ]
    }
   ],
   "source": [
    "#all, get, filter\n",
    "for i in Property.objects.all():\n",
    "    print(\"%s %s %s\"%(i.id, i.name, i.price_per_day))"
   ]
  },
  {
   "cell_type": "code",
   "execution_count": 13,
   "metadata": {},
   "outputs": [],
   "source": [
    "p=Property.objects.create(name='Asian Game B6', ac=True, size=35.0, price_per_day=600)\n",
    "p.save()"
   ]
  },
  {
   "cell_type": "code",
   "execution_count": 16,
   "metadata": {},
   "outputs": [],
   "source": [
    "p=Property.objects.get(id=4)\n",
    "p.name='Asian Game B7'\n",
    "p.save()"
   ]
  },
  {
   "cell_type": "code",
   "execution_count": 18,
   "metadata": {},
   "outputs": [],
   "source": [
    "p=Property.objects.get(id=5)\n",
    "p.name='Asian Game B8'\n",
    "p.price_per_day=550\n",
    "p.save()"
   ]
  },
  {
   "cell_type": "code",
   "execution_count": null,
   "metadata": {},
   "outputs": [],
   "source": []
  }
 ],
 "metadata": {
  "kernelspec": {
   "display_name": "Django Shell-Plus",
   "language": "python",
   "name": "django_extensions"
  },
  "language_info": {
   "codemirror_mode": {
    "name": "ipython",
    "version": 3
   },
   "file_extension": ".py",
   "mimetype": "text/x-python",
   "name": "python",
   "nbconvert_exporter": "python",
   "pygments_lexer": "ipython3",
   "version": "3.8.1"
  }
 },
 "nbformat": 4,
 "nbformat_minor": 4
}
